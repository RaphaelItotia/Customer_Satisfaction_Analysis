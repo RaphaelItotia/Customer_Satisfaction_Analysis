{
 "cells": [
  {
   "cell_type": "code",
   "execution_count": 2,
   "id": "d164afff-27f4-4379-84c3-0faec06d7b9b",
   "metadata": {},
   "outputs": [],
   "source": [
    "# Import necessary libraries\n",
    "import pandas as pd\n",
    "import numpy as np"
   ]
  },
  {
   "cell_type": "code",
   "execution_count": 3,
   "id": "967d5a24-d695-48c6-98b2-c80eb323d59a",
   "metadata": {},
   "outputs": [],
   "source": [
    "# Define the number of entries\n",
    "num_entries = 200"
   ]
  },
  {
   "cell_type": "code",
   "execution_count": 4,
   "id": "e67e534b-4116-4433-a20a-fe246e5f2dd0",
   "metadata": {},
   "outputs": [],
   "source": [
    "# Set seed for reproducibility\n",
    "np.random.seed(42)"
   ]
  },
  {
   "cell_type": "code",
   "execution_count": 5,
   "id": "84f3913a-b981-4b86-b565-fbc1f3cafa27",
   "metadata": {},
   "outputs": [],
   "source": [
    "# Generate Customer ID\n",
    "customer_ids = np.arange(1, num_entries + 1)"
   ]
  },
  {
   "cell_type": "code",
   "execution_count": 6,
   "id": "6794805e-69ac-406f-8fb8-3f5e7fb0138c",
   "metadata": {},
   "outputs": [],
   "source": [
    "# Generate Customer Age (18 to 75)\n",
    "customer_age = np.random.randint(18, 66, size=num_entries)"
   ]
  },
  {
   "cell_type": "code",
   "execution_count": 7,
   "id": "6294629a-9b1b-4294-99a3-a6582ddc6e8b",
   "metadata": {},
   "outputs": [],
   "source": [
    "# Generate Gender (Male or Female)\n",
    "gender = np.random.choice(['Male', 'Female'], size=num_entries)"
   ]
  },
  {
   "cell_type": "code",
   "execution_count": 8,
   "id": "73f60d72-5e33-430f-a7e8-04dc6ca0549a",
   "metadata": {},
   "outputs": [],
   "source": [
    "# Generate Income Level (Low, Medium, High)\n",
    "income_level = np.random.choice(['Low', 'Medium', 'High'], size=num_entries)"
   ]
  },
  {
   "cell_type": "code",
   "execution_count": 9,
   "id": "3616a6bf-a3d8-4db1-b30b-265ac9250bd8",
   "metadata": {},
   "outputs": [],
   "source": [
    "# Generate Frequency of Purchase (1 to 10 purchases)\n",
    "frequency_of_purchase = np.random.randint(1, 11, size=num_entries)"
   ]
  },
  {
   "cell_type": "code",
   "execution_count": 10,
   "id": "eaeca3f3-5d65-47b5-b81a-d69ec8d05993",
   "metadata": {},
   "outputs": [],
   "source": [
    "# Generate Product/Service Purchased\n",
    "products = np.random.choice(['Product A', 'Product B', 'Service A', 'Service B'], size=num_entries)"
   ]
  },
  {
   "cell_type": "code",
   "execution_count": 11,
   "id": "d1cd7826-7de5-4e08-9bc2-c9bcc7eced24",
   "metadata": {},
   "outputs": [],
   "source": [
    "# Generate Satisfaction Ratings for both \"Before\" and \"After\" time periods for the same customer\n",
    "satisfaction_before = np.random.randint(1, 11, size=num_entries)\n",
    "satisfaction_after = np.random.randint(1, 11, size=num_entries)"
   ]
  },
  {
   "cell_type": "code",
   "execution_count": 13,
   "id": "2bfd0199-6233-407f-98b9-ce86c0e1f04d",
   "metadata": {},
   "outputs": [],
   "source": [
    "# Function to generate feedback based on satisfaction rating\n",
    "def generate_feedback(satisfaction):\n",
    "    if satisfaction >= 8:\n",
    "        return np.random.choice(['Very satisfied', 'Excellent service', 'Will recommend'])\n",
    "    elif satisfaction >= 5:\n",
    "        return np.random.choice(['Average experience', 'Quick service'])\n",
    "    else:\n",
    "        return np.random.choice(['Dissatisfied', 'Needs improvement', 'Not happy with the service', 'Slow response'])\n",
    "\n",
    "# Generate realistic feedback for both before and after satisfaction ratings\n",
    "feedback_before = [generate_feedback(rating) for rating in satisfaction_before]\n",
    "feedback_after = [generate_feedback(rating) for rating in satisfaction_after]"
   ]
  },
  {
   "cell_type": "code",
   "execution_count": 14,
   "id": "2f79f3a6-fae7-4203-a2a4-3d2789ae842c",
   "metadata": {},
   "outputs": [],
   "source": [
    "# Generate Employee Interaction Rating (scale of 1 to 10)\n",
    "employee_interaction_rating = np.random.randint(1, 11, size=num_entries)"
   ]
  },
  {
   "cell_type": "code",
   "execution_count": 15,
   "id": "d0334080-7647-494b-adde-36f2e5d0a236",
   "metadata": {},
   "outputs": [],
   "source": [
    "# Generate Region\n",
    "region = np.random.choice(['Nairobi', 'Rift Valley', 'Western', 'Eastern', 'Central'], size=num_entries)"
   ]
  },
  {
   "cell_type": "code",
   "execution_count": 16,
   "id": "12adda27-3d7e-456c-b99d-1af6f23d9e4b",
   "metadata": {},
   "outputs": [],
   "source": [
    "# Generate whether customer is part of a loyalty program or not\n",
    "customer_loyalty = np.random.choice(['Yes', 'No'], size=num_entries)"
   ]
  },
  {
   "cell_type": "code",
   "execution_count": 19,
   "id": "766521a4-12e4-4fdb-8319-939a891c3de0",
   "metadata": {},
   "outputs": [],
   "source": [
    "# Create the final DataFrame with all attributes\n",
    "data = pd.DataFrame({\n",
    "    'Customer_ID': customer_ids,\n",
    "    'Customer_Age': customer_age,\n",
    "    'Gender': gender,\n",
    "    'Income_Level': income_level,\n",
    "    'Frequency_of_Purchase': frequency_of_purchase,\n",
    "    'Product/Service_Purchased': products,\n",
    "    'Satisfaction_Before': satisfaction_before,\n",
    "    'Satisfaction_After': satisfaction_after,\n",
    "    'Customer_Feedback_Before': feedback_before,\n",
    "    'Customer_Feedback_After': feedback_after,\n",
    "    'Employee_Interaction_Rating': employee_interaction_rating,\n",
    "    'Region': region,\n",
    "    'Customer_Loyalty': customer_loyalty\n",
    "})"
   ]
  },
  {
   "cell_type": "code",
   "execution_count": 21,
   "id": "a482307d-ea90-4821-9882-23139dd3b863",
   "metadata": {},
   "outputs": [
    {
     "data": {
      "text/html": [
       "<div>\n",
       "<style scoped>\n",
       "    .dataframe tbody tr th:only-of-type {\n",
       "        vertical-align: middle;\n",
       "    }\n",
       "\n",
       "    .dataframe tbody tr th {\n",
       "        vertical-align: top;\n",
       "    }\n",
       "\n",
       "    .dataframe thead th {\n",
       "        text-align: right;\n",
       "    }\n",
       "</style>\n",
       "<table border=\"1\" class=\"dataframe\">\n",
       "  <thead>\n",
       "    <tr style=\"text-align: right;\">\n",
       "      <th></th>\n",
       "      <th>Customer_ID</th>\n",
       "      <th>Customer_Age</th>\n",
       "      <th>Gender</th>\n",
       "      <th>Income_Level</th>\n",
       "      <th>Frequency_of_Purchase</th>\n",
       "      <th>Product/Service_Purchased</th>\n",
       "      <th>Satisfaction_Before</th>\n",
       "      <th>Satisfaction_After</th>\n",
       "      <th>Customer_Feedback_Before</th>\n",
       "      <th>Customer_Feedback_After</th>\n",
       "      <th>Employee_Interaction_Rating</th>\n",
       "      <th>Region</th>\n",
       "      <th>Customer_Loyalty</th>\n",
       "    </tr>\n",
       "  </thead>\n",
       "  <tbody>\n",
       "    <tr>\n",
       "      <th>0</th>\n",
       "      <td>1</td>\n",
       "      <td>56</td>\n",
       "      <td>Male</td>\n",
       "      <td>High</td>\n",
       "      <td>1</td>\n",
       "      <td>Product B</td>\n",
       "      <td>2</td>\n",
       "      <td>10</td>\n",
       "      <td>Dissatisfied</td>\n",
       "      <td>Very satisfied</td>\n",
       "      <td>9</td>\n",
       "      <td>Central</td>\n",
       "      <td>Yes</td>\n",
       "    </tr>\n",
       "    <tr>\n",
       "      <th>1</th>\n",
       "      <td>2</td>\n",
       "      <td>46</td>\n",
       "      <td>Female</td>\n",
       "      <td>Low</td>\n",
       "      <td>10</td>\n",
       "      <td>Service A</td>\n",
       "      <td>10</td>\n",
       "      <td>8</td>\n",
       "      <td>Will recommend</td>\n",
       "      <td>Excellent service</td>\n",
       "      <td>9</td>\n",
       "      <td>Central</td>\n",
       "      <td>No</td>\n",
       "    </tr>\n",
       "    <tr>\n",
       "      <th>2</th>\n",
       "      <td>3</td>\n",
       "      <td>32</td>\n",
       "      <td>Male</td>\n",
       "      <td>Low</td>\n",
       "      <td>8</td>\n",
       "      <td>Product A</td>\n",
       "      <td>6</td>\n",
       "      <td>6</td>\n",
       "      <td>Quick service</td>\n",
       "      <td>Average experience</td>\n",
       "      <td>5</td>\n",
       "      <td>Western</td>\n",
       "      <td>No</td>\n",
       "    </tr>\n",
       "    <tr>\n",
       "      <th>3</th>\n",
       "      <td>4</td>\n",
       "      <td>60</td>\n",
       "      <td>Female</td>\n",
       "      <td>Medium</td>\n",
       "      <td>10</td>\n",
       "      <td>Service A</td>\n",
       "      <td>3</td>\n",
       "      <td>6</td>\n",
       "      <td>Needs improvement</td>\n",
       "      <td>Quick service</td>\n",
       "      <td>10</td>\n",
       "      <td>Eastern</td>\n",
       "      <td>No</td>\n",
       "    </tr>\n",
       "    <tr>\n",
       "      <th>4</th>\n",
       "      <td>5</td>\n",
       "      <td>25</td>\n",
       "      <td>Male</td>\n",
       "      <td>Low</td>\n",
       "      <td>10</td>\n",
       "      <td>Product A</td>\n",
       "      <td>3</td>\n",
       "      <td>8</td>\n",
       "      <td>Slow response</td>\n",
       "      <td>Very satisfied</td>\n",
       "      <td>4</td>\n",
       "      <td>Rift Valley</td>\n",
       "      <td>Yes</td>\n",
       "    </tr>\n",
       "  </tbody>\n",
       "</table>\n",
       "</div>"
      ],
      "text/plain": [
       "   Customer_ID  Customer_Age  Gender Income_Level  Frequency_of_Purchase  \\\n",
       "0            1            56    Male         High                      1   \n",
       "1            2            46  Female          Low                     10   \n",
       "2            3            32    Male          Low                      8   \n",
       "3            4            60  Female       Medium                     10   \n",
       "4            5            25    Male          Low                     10   \n",
       "\n",
       "  Product/Service_Purchased  Satisfaction_Before  Satisfaction_After  \\\n",
       "0                 Product B                    2                  10   \n",
       "1                 Service A                   10                   8   \n",
       "2                 Product A                    6                   6   \n",
       "3                 Service A                    3                   6   \n",
       "4                 Product A                    3                   8   \n",
       "\n",
       "  Customer_Feedback_Before Customer_Feedback_After  \\\n",
       "0             Dissatisfied          Very satisfied   \n",
       "1           Will recommend       Excellent service   \n",
       "2            Quick service      Average experience   \n",
       "3        Needs improvement           Quick service   \n",
       "4            Slow response          Very satisfied   \n",
       "\n",
       "   Employee_Interaction_Rating       Region Customer_Loyalty  \n",
       "0                            9      Central              Yes  \n",
       "1                            9      Central               No  \n",
       "2                            5      Western               No  \n",
       "3                           10      Eastern               No  \n",
       "4                            4  Rift Valley              Yes  "
      ]
     },
     "execution_count": 21,
     "metadata": {},
     "output_type": "execute_result"
    }
   ],
   "source": [
    "# Display the first few rows of the dataset\n",
    "data.head()"
   ]
  },
  {
   "cell_type": "code",
   "execution_count": 22,
   "id": "b26b1b7b-ff89-4418-8e4d-8de753faebd7",
   "metadata": {},
   "outputs": [],
   "source": [
    "data.to_csv('Murima_SuperStores.csv', index=False)"
   ]
  },
  {
   "cell_type": "code",
   "execution_count": null,
   "id": "9b3f56d0-c161-4205-9926-073a9c02cec5",
   "metadata": {},
   "outputs": [],
   "source": []
  }
 ],
 "metadata": {
  "kernelspec": {
   "display_name": "Python 3 (ipykernel)",
   "language": "python",
   "name": "python3"
  },
  "language_info": {
   "codemirror_mode": {
    "name": "ipython",
    "version": 3
   },
   "file_extension": ".py",
   "mimetype": "text/x-python",
   "name": "python",
   "nbconvert_exporter": "python",
   "pygments_lexer": "ipython3",
   "version": "3.12.3"
  }
 },
 "nbformat": 4,
 "nbformat_minor": 5
}
