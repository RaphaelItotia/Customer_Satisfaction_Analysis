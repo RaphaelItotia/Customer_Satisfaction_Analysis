{
 "cells": [
  {
   "cell_type": "code",
   "execution_count": 1,
   "id": "4cd2c9aa-9be2-40f0-900d-6d9711980d0a",
   "metadata": {},
   "outputs": [],
   "source": [
    "import pandas as pd"
   ]
  },
  {
   "cell_type": "code",
   "execution_count": 2,
   "id": "9fbac235-bd80-4675-ad54-86fb177923c2",
   "metadata": {},
   "outputs": [],
   "source": [
    "data = pd.read_csv(r'Raphael Itotia\\Murima_SuperStores.csv')"
   ]
  },
  {
   "cell_type": "code",
   "execution_count": 3,
   "id": "0c916122-0837-4214-a689-4c9f5997396c",
   "metadata": {},
   "outputs": [
    {
     "data": {
      "text/html": [
       "<div>\n",
       "<style scoped>\n",
       "    .dataframe tbody tr th:only-of-type {\n",
       "        vertical-align: middle;\n",
       "    }\n",
       "\n",
       "    .dataframe tbody tr th {\n",
       "        vertical-align: top;\n",
       "    }\n",
       "\n",
       "    .dataframe thead th {\n",
       "        text-align: right;\n",
       "    }\n",
       "</style>\n",
       "<table border=\"1\" class=\"dataframe\">\n",
       "  <thead>\n",
       "    <tr style=\"text-align: right;\">\n",
       "      <th></th>\n",
       "      <th>Customer_ID</th>\n",
       "      <th>Customer_Age</th>\n",
       "      <th>Gender</th>\n",
       "      <th>Income_Level</th>\n",
       "      <th>Frequency_of_Purchase</th>\n",
       "      <th>Product/Service_Purchased</th>\n",
       "      <th>Satisfaction_Before</th>\n",
       "      <th>Satisfaction_After</th>\n",
       "      <th>Customer_Feedback_Before</th>\n",
       "      <th>Customer_Feedback_After</th>\n",
       "      <th>Employee_Interaction_Rating</th>\n",
       "      <th>Region</th>\n",
       "      <th>Customer_Loyalty</th>\n",
       "    </tr>\n",
       "  </thead>\n",
       "  <tbody>\n",
       "    <tr>\n",
       "      <th>0</th>\n",
       "      <td>1</td>\n",
       "      <td>56</td>\n",
       "      <td>Male</td>\n",
       "      <td>High</td>\n",
       "      <td>1</td>\n",
       "      <td>Product B</td>\n",
       "      <td>2</td>\n",
       "      <td>10</td>\n",
       "      <td>Dissatisfied</td>\n",
       "      <td>Very satisfied</td>\n",
       "      <td>9</td>\n",
       "      <td>Central</td>\n",
       "      <td>Yes</td>\n",
       "    </tr>\n",
       "    <tr>\n",
       "      <th>1</th>\n",
       "      <td>2</td>\n",
       "      <td>46</td>\n",
       "      <td>Female</td>\n",
       "      <td>Low</td>\n",
       "      <td>10</td>\n",
       "      <td>Service A</td>\n",
       "      <td>10</td>\n",
       "      <td>8</td>\n",
       "      <td>Will recommend</td>\n",
       "      <td>Excellent service</td>\n",
       "      <td>9</td>\n",
       "      <td>Central</td>\n",
       "      <td>No</td>\n",
       "    </tr>\n",
       "    <tr>\n",
       "      <th>2</th>\n",
       "      <td>3</td>\n",
       "      <td>32</td>\n",
       "      <td>Male</td>\n",
       "      <td>Low</td>\n",
       "      <td>8</td>\n",
       "      <td>Product A</td>\n",
       "      <td>6</td>\n",
       "      <td>6</td>\n",
       "      <td>Quick service</td>\n",
       "      <td>Average experience</td>\n",
       "      <td>5</td>\n",
       "      <td>Western</td>\n",
       "      <td>No</td>\n",
       "    </tr>\n",
       "    <tr>\n",
       "      <th>3</th>\n",
       "      <td>4</td>\n",
       "      <td>60</td>\n",
       "      <td>Female</td>\n",
       "      <td>Medium</td>\n",
       "      <td>10</td>\n",
       "      <td>Service A</td>\n",
       "      <td>3</td>\n",
       "      <td>6</td>\n",
       "      <td>Needs improvement</td>\n",
       "      <td>Quick service</td>\n",
       "      <td>10</td>\n",
       "      <td>Eastern</td>\n",
       "      <td>No</td>\n",
       "    </tr>\n",
       "    <tr>\n",
       "      <th>4</th>\n",
       "      <td>5</td>\n",
       "      <td>25</td>\n",
       "      <td>Male</td>\n",
       "      <td>Low</td>\n",
       "      <td>10</td>\n",
       "      <td>Product A</td>\n",
       "      <td>3</td>\n",
       "      <td>8</td>\n",
       "      <td>Slow response</td>\n",
       "      <td>Very satisfied</td>\n",
       "      <td>4</td>\n",
       "      <td>Rift Valley</td>\n",
       "      <td>Yes</td>\n",
       "    </tr>\n",
       "  </tbody>\n",
       "</table>\n",
       "</div>"
      ],
      "text/plain": [
       "   Customer_ID  Customer_Age  Gender Income_Level  Frequency_of_Purchase  \\\n",
       "0            1            56    Male         High                      1   \n",
       "1            2            46  Female          Low                     10   \n",
       "2            3            32    Male          Low                      8   \n",
       "3            4            60  Female       Medium                     10   \n",
       "4            5            25    Male          Low                     10   \n",
       "\n",
       "  Product/Service_Purchased  Satisfaction_Before  Satisfaction_After  \\\n",
       "0                 Product B                    2                  10   \n",
       "1                 Service A                   10                   8   \n",
       "2                 Product A                    6                   6   \n",
       "3                 Service A                    3                   6   \n",
       "4                 Product A                    3                   8   \n",
       "\n",
       "  Customer_Feedback_Before Customer_Feedback_After  \\\n",
       "0             Dissatisfied          Very satisfied   \n",
       "1           Will recommend       Excellent service   \n",
       "2            Quick service      Average experience   \n",
       "3        Needs improvement           Quick service   \n",
       "4            Slow response          Very satisfied   \n",
       "\n",
       "   Employee_Interaction_Rating       Region Customer_Loyalty  \n",
       "0                            9      Central              Yes  \n",
       "1                            9      Central               No  \n",
       "2                            5      Western               No  \n",
       "3                           10      Eastern               No  \n",
       "4                            4  Rift Valley              Yes  "
      ]
     },
     "execution_count": 3,
     "metadata": {},
     "output_type": "execute_result"
    }
   ],
   "source": [
    "data.head()"
   ]
  },
  {
   "cell_type": "code",
   "execution_count": 4,
   "id": "7cbf5a81-1ed1-4362-8c16-eefdc8531424",
   "metadata": {},
   "outputs": [
    {
     "name": "stdout",
     "output_type": "stream",
     "text": [
      "Mean satisfaction before: 5.4\n",
      "Mean satisfaction after: 5.425\n"
     ]
    }
   ],
   "source": [
    "# Calculate descriptive statistics\n",
    "mean_before = data['Satisfaction_Before'].mean()\n",
    "mean_after = data ['Satisfaction_After'].mean()\n",
    "std_before = data ['Satisfaction_Before'].std()\n",
    "std_after = data ['Satisfaction_After'].std()\n",
    "\n",
    "print(f\"Mean satisfaction before: {mean_before}\")\n",
    "print(f\"Mean satisfaction after: {mean_after}\")\n"
   ]
  },
  {
   "cell_type": "code",
   "execution_count": 5,
   "id": "a5769fd3-7be9-4c10-b749-f9e11e880baf",
   "metadata": {},
   "outputs": [
    {
     "data": {
      "image/png": "[encoded data removed]",
      "text/plain": [
       "<Figure size 1000x600 with 1 Axes>"
      ]
     },
     "metadata": {},
     "output_type": "display_data"
    }
   ],
   "source": [
    "import seaborn as sns\n",
    "import matplotlib.pyplot as plt\n",
    "\n",
    "# Boxplot for before and after satisfaction ratings\n",
    "plt.figure(figsize=(10, 6))\n",
    "sns.boxplot(data=[data ['Satisfaction_Before'], data ['Satisfaction_After']])\n",
    "plt.xticks([0, 1], ['Before', 'After'])\n",
    "plt.title('Customer Satisfaction Before vs. After Service Improvements')\n",
    "plt.ylabel('Satisfaction Rating')\n",
    "plt.show()\n"
   ]
  },
  {
   "cell_type": "code",
   "execution_count": 6,
   "id": "7e9e49ad-d634-42c0-aac7-6bd942f0b42b",
   "metadata": {},
   "outputs": [
    {
     "name": "stdout",
     "output_type": "stream",
     "text": [
      "t-statistic: -0.08758231902891955\n",
      "p-value: 0.9302967239958176\n"
     ]
    }
   ],
   "source": [
    "from scipy import stats\n",
    "\n",
    "# Calculate the difference\n",
    "data ['Difference'] = data ['Satisfaction_After'] - data ['Satisfaction_Before']\n",
    "\n",
    "# Conduct paired t-test\n",
    "t_stat, p_value = stats.ttest_rel(data ['Satisfaction_Before'], data ['Satisfaction_After'])\n",
    "\n",
    "print(f\"t-statistic: {t_stat}\")\n",
    "print(f\"p-value: {p_value}\")\n"
   ]
  },
  {
   "cell_type": "code",
   "execution_count": null,
   "id": "0941838d-b939-4d2f-a7c6-ff96551e2e14",
   "metadata": {},
   "outputs": [],
   "source": []
  }
 ],
 "metadata": {
  "kernelspec": {
   "display_name": "Python 3 (ipykernel)",
   "language": "python",
   "name": "python3"
  },
  "language_info": {
   "codemirror_mode": {
    "name": "ipython",
    "version": 3
   },
   "file_extension": ".py",
   "mimetype": "text/x-python",
   "name": "python",
   "nbconvert_exporter": "python",
   "pygments_lexer": "ipython3",
   "version": "3.12.3"
  }
 },
 "nbformat": 4,
 "nbformat_minor": 5
}
